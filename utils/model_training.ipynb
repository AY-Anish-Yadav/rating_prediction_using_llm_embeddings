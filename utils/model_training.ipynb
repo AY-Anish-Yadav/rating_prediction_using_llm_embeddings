{
 "cells": [
  {
   "cell_type": "markdown",
   "metadata": {},
   "source": [
    "## Data Preparation (huge dataset)\n",
    "\n",
    "### Way1: \n",
    "1. Pandas with chunk size \n",
    "2. del unnecesary information, gc.collect() \n",
    "\n",
    "\n",
    "--->RuntimeError: [enforce fail at alloc_cpu.cpp:114] data. DefaultCPUAllocator: not enough memory: you tried to allocate 4374528000 bytes.\n",
    "\n",
    "### Way2\n",
    "\n",
    "1. Load and process the data in chunks.\n",
    "2. Embed the reviews using the UAE large v1 model.\n",
    "3. Save each chunk's embeddings and ratings to a temporary file.\n",
    "4. Combine all temporary files into a single NumPy array at the end.\n"
   ]
  },
  {
   "cell_type": "markdown",
   "metadata": {},
   "source": [
    "## Embedding Generation\n",
    "Looked into --->  MTEB Leaderboard (massive text embedding benchmark)\n",
    "### UAE - large-V1 (universal angie embeddings)\n",
    "1. Dimensions : 1024\n",
    "2. Time : took 1 hr for 3k records.\n",
    "3. Model Size : 1.25 GB (fp32)\n",
    "4. Context length (tokens) : 512\n",
    "5. price : open source\n",
    "\n",
    "### Voyage-large-2-instruct\n",
    "1. Dimensions : 1024\n",
    "2. Time : \n",
    "3. Model Size : \n",
    "4. Context length (tokens) : 16k\n",
    "5. price : $ 0.12 / 1 million tokens\n",
    "\n",
    "### text-embedding-3-small\n",
    "1. Dimensions : 1536\n",
    "2. Time : \n",
    "3. Model Size : \n",
    "4. Context length (tokens) : 512\n",
    "5. price : $ 0.02 / 1 million tokens\n",
    "\n"
   ]
  },
  {
   "cell_type": "markdown",
   "metadata": {},
   "source": [
    "1. Latency - Performance Trade - off :\n",
    "Delay between a user's action and the response from a system is known as an latency.\n",
    "2. Capturing Complexity of data - operational efficiency trade off:"
   ]
  },
  {
   "cell_type": "markdown",
   "metadata": {},
   "source": [
    "## How to train your own embedding model?\n",
    "\n"
   ]
  },
  {
   "cell_type": "code",
   "execution_count": 3,
   "metadata": {},
   "outputs": [],
   "source": [
    "# load .npy file\n",
    "\n",
    "import numpy as np\n",
    "file=r\"D:\\projects_llm\\review_prediction_using_llm_embeddings\\temp_chunks\\ratings_embeddings.npy\"\n",
    "data=np.load(file)"
   ]
  },
  {
   "cell_type": "code",
   "execution_count": 5,
   "metadata": {},
   "outputs": [
    {
     "name": "stdout",
     "output_type": "stream",
     "text": [
      "<class 'numpy.ndarray'>\n"
     ]
    },
    {
     "data": {
      "text/plain": [
       "(10000, 1025)"
      ]
     },
     "execution_count": 5,
     "metadata": {},
     "output_type": "execute_result"
    }
   ],
   "source": [
    "print(type(data))\n",
    "data.shape"
   ]
  },
  {
   "cell_type": "code",
   "execution_count": 7,
   "metadata": {},
   "outputs": [
    {
     "data": {
      "text/plain": [
       "(1025,)"
      ]
     },
     "execution_count": 7,
     "metadata": {},
     "output_type": "execute_result"
    }
   ],
   "source": [
    "data[0].shape"
   ]
  },
  {
   "cell_type": "code",
   "execution_count": 9,
   "metadata": {},
   "outputs": [
    {
     "data": {
      "text/plain": [
       "array([ 4.        , -0.03100718, -0.00820842, ...,  0.01742723,\n",
       "        0.03722996,  0.02347247])"
      ]
     },
     "execution_count": 9,
     "metadata": {},
     "output_type": "execute_result"
    }
   ],
   "source": [
    "data[1]\n"
   ]
  },
  {
   "cell_type": "code",
   "execution_count": null,
   "metadata": {},
   "outputs": [],
   "source": []
  }
 ],
 "metadata": {
  "kernelspec": {
   "display_name": "base",
   "language": "python",
   "name": "python3"
  },
  "language_info": {
   "codemirror_mode": {
    "name": "ipython",
    "version": 3
   },
   "file_extension": ".py",
   "mimetype": "text/x-python",
   "name": "python",
   "nbconvert_exporter": "python",
   "pygments_lexer": "ipython3",
   "version": "3.12.4"
  }
 },
 "nbformat": 4,
 "nbformat_minor": 2
}
